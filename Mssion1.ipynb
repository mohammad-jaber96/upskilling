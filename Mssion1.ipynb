{
 "cells": [
  {
   "cell_type": "markdown",
   "metadata": {},
   "source": [
    "1. Write a Python program to parse a string to Float or Integer. and print the type of them"
   ]
  },
  {
   "cell_type": "code",
   "execution_count": 1,
   "metadata": {},
   "outputs": [
    {
     "name": "stdout",
     "output_type": "stream",
     "text": [
      "<class 'str'>\n",
      "<class 'int'>\n"
     ]
    }
   ],
   "source": [
    "x='10'\n",
    "y=int(x,base=10)\n",
    "print(type(x))\n",
    "print(type(y))"
   ]
  },
  {
   "cell_type": "markdown",
   "metadata": {},
   "source": [
    "2. Write a Python program to print two values without newline or space."
   ]
  },
  {
   "cell_type": "code",
   "execution_count": 2,
   "metadata": {},
   "outputs": [
    {
     "name": "stdout",
     "output_type": "stream",
     "text": [
      "metallica5\n"
     ]
    }
   ],
   "source": [
    "print('metallica',5,sep='')"
   ]
  },
  {
   "cell_type": "markdown",
   "metadata": {},
   "source": [
    "3. Write a program that takes an input from the user and checks if it’s divisible by 3 or not."
   ]
  },
  {
   "cell_type": "code",
   "execution_count": 3,
   "metadata": {
    "scrolled": true
   },
   "outputs": [
    {
     "name": "stdout",
     "output_type": "stream",
     "text": [
      "Enter a number:15\n",
      "15  is divisible by 3\n"
     ]
    }
   ],
   "source": [
    "i=int(input(\"Enter a number:\"))\n",
    "if(i%3==0):\n",
    "    print(i,\" is divisible by 3\")\n",
    "else:\n",
    "    print(i,\" is not divisible by 3\")"
   ]
  },
  {
   "cell_type": "markdown",
   "metadata": {},
   "source": [
    "4. Write a program that reads three integers (a, b, and c), computes the following formulas and\n",
    "stores the results in the variables x1, x2 and prints the results of the program.\n",
    "x1=-b+c^2/2a - 3(a+b^2)        x2=(a+b^3)^2/c-a^2"
   ]
  },
  {
   "cell_type": "code",
   "execution_count": 4,
   "metadata": {},
   "outputs": [
    {
     "name": "stdout",
     "output_type": "stream",
     "text": [
      "Enter a number:1\n",
      "Enter a number:2\n",
      "Enter a number:3\n",
      "x1 =  34.5\n",
      "x2 =  40.5\n"
     ]
    }
   ],
   "source": [
    "a=int(input(\"Enter a number:\"))\n",
    "b=int(input(\"Enter a number:\"))\n",
    "c=int(input(\"Enter a number:\"))\n",
    "x1=((-b+c**4)/(2*a))-((3*(a+b**2)/c))\n",
    "x2=(((a+b**3)**2)/(c-a**2))\n",
    "print('x1 = ',x1)\n",
    "print('x2 = ',x2)"
   ]
  },
  {
   "cell_type": "markdown",
   "metadata": {},
   "source": [
    "5. Write a program that reads two numbers a and b. Print the maximum value of the two numbers."
   ]
  },
  {
   "cell_type": "code",
   "execution_count": 5,
   "metadata": {},
   "outputs": [
    {
     "name": "stdout",
     "output_type": "stream",
     "text": [
      "Enter the value of a:5\n",
      "Enter te value of b:6\n",
      "the maximum number between them is  6\n"
     ]
    }
   ],
   "source": [
    "a=input(\"Enter the value of a:\")\n",
    "b=input(\"Enter te value of b:\")\n",
    "print('the maximum number between them is ',max(a,b))"
   ]
  },
  {
   "cell_type": "markdown",
   "metadata": {},
   "source": [
    "6. Write a program that reads three input values. Output the maximum value of the three."
   ]
  },
  {
   "cell_type": "code",
   "execution_count": 6,
   "metadata": {},
   "outputs": [
    {
     "name": "stdout",
     "output_type": "stream",
     "text": [
      "Enter the value of a:5\n",
      "Enter te value of b:6\n",
      "Enter te value of b:7\n",
      "the maximum number between them is  7\n"
     ]
    }
   ],
   "source": [
    "a=input(\"Enter the value of a:\")\n",
    "b=input(\"Enter te value of b:\")\n",
    "c=input(\"Enter te value of b:\")\n",
    "print('the maximum number between them is ',max(a,b,c))"
   ]
  },
  {
   "cell_type": "markdown",
   "metadata": {},
   "source": [
    "Write a program that reads two values a and b. If b is 0, output ”b is 0”. Otherwise output\n",
    "the result of the division of a by b (a/b)."
   ]
  },
  {
   "cell_type": "code",
   "execution_count": 7,
   "metadata": {},
   "outputs": [
    {
     "name": "stdout",
     "output_type": "stream",
     "text": [
      "Enter te value of a:5\n",
      "Enter te value of b:0\n",
      "\"b is 0\"\n"
     ]
    }
   ],
   "source": [
    "a=input(\"Enter te value of a:\")\n",
    "b=input(\"Enter te value of b:\")\n",
    "c=int(a,base=10)\n",
    "d=int(b,base=10)\n",
    "if d==0 :\n",
    "    print('\"b is 0\"')\n",
    "else :\n",
    "    print(c/d)"
   ]
  },
  {
   "cell_type": "markdown",
   "metadata": {},
   "source": [
    "8. Write a program to convert days into years, weeks and days."
   ]
  },
  {
   "cell_type": "code",
   "execution_count": 23,
   "metadata": {},
   "outputs": [
    {
     "name": "stdout",
     "output_type": "stream",
     "text": [
      "please enter the days : 1000\n",
      "years =  2\n",
      "weeks =  38\n",
      "days =  4\n"
     ]
    }
   ],
   "source": [
    "day=int(input(\"please enter the days : \"))\n",
    "year=day//365\n",
    "week=(day%365)//7\n",
    "day=(day%365)%7 \n",
    "print(\"years = \",year)\n",
    "print(\"weeks = \", week) \n",
    "print(\"days = \",day)"
   ]
  },
  {
   "cell_type": "markdown",
   "metadata": {},
   "source": [
    "9. Write a program to read temperature in Celsius and convert it into Fahrenheit."
   ]
  },
  {
   "cell_type": "code",
   "execution_count": 25,
   "metadata": {},
   "outputs": [
    {
     "name": "stdout",
     "output_type": "stream",
     "text": [
      "please enter the temprature5\n",
      "the temprature in fahrenheit :  41.0 f°\n"
     ]
    }
   ],
   "source": [
    "c=int(input('please enter the temprature'))\n",
    "f=c*(9/5)+32\n",
    "print('the temprature in fahrenheit : ',f,'f°')"
   ]
  },
  {
   "cell_type": "markdown",
   "metadata": {},
   "source": [
    "As you know Python has no switch statements so, Write a complete Python application that\n",
    "asks the user to enter an integer Q-Range (”deviation IQ”) and output the IQ Classification\n",
    "according to the following table:\n",
    "Q Range (”deviation IQ”) -> IQ Classification\n",
    "130 and above -> Very Superior\n",
    "120 - 129 -> Superior\n",
    "110 - 119 -> High Average\n",
    "90 - 109 -> Average\n",
    "80 - 89 -> Low Average\n",
    "70 - 79 -> Borderline\n",
    "69 and below -> Extremely Low"
   ]
  },
  {
   "cell_type": "code",
   "execution_count": 28,
   "metadata": {},
   "outputs": [
    {
     "name": "stdout",
     "output_type": "stream",
     "text": [
      "please enter the IQ degree75\n",
      "Borderline\n"
     ]
    }
   ],
   "source": [
    "IQ=int(input('please enter the IQ degree'))\n",
    "if IQ>=130:\n",
    "    print('Very Superior')\n",
    "elif IQ>=120:\n",
    "    print('Superior')\n",
    "elif IQ>=110:\n",
    "    print('High Average')\n",
    "elif IQ>=90:\n",
    "    print('Average')\n",
    "elif IQ>=80:\n",
    "    print('Low Average')\n",
    "elif IQ>=70:\n",
    "    print('Borderline')\n",
    "else:\n",
    "    print('Extremely Low')"
   ]
  },
  {
   "cell_type": "markdown",
   "metadata": {},
   "source": [
    "12. Write a program that classifies a student marks as follows:\n",
    "[90 − 100] : A\n",
    "[80 − 90] : B\n",
    "[70 − 80] : C\n",
    "[60 − 70] : D\n",
    "[50 − 60] : E"
   ]
  },
  {
   "cell_type": "code",
   "execution_count": 29,
   "metadata": {},
   "outputs": [
    {
     "name": "stdout",
     "output_type": "stream",
     "text": [
      "please enter student degree55\n",
      "Student mark is : E\n"
     ]
    }
   ],
   "source": [
    "IQ=int(input('please enter student degree '))\n",
    "if IQ>=90:\n",
    "    print('Student mark is : A')\n",
    "elif IQ>=80:\n",
    "    print('Student mark is : B')\n",
    "elif IQ>=70:\n",
    "    print('Student mark is : C')\n",
    "elif IQ>=60:\n",
    "    print('Student mark is : D')\n",
    "elif IQ>=50:\n",
    "    print('Student mark is : E')\n",
    "else:\n",
    "    print('Student mark is : F')"
   ]
  },
  {
   "cell_type": "markdown",
   "metadata": {},
   "source": [
    "13. Write a program that tests whether the formula a2 + b2 = c2 is true for three integers entered\n",
    "as input."
   ]
  },
  {
   "cell_type": "code",
   "execution_count": 35,
   "metadata": {},
   "outputs": [
    {
     "name": "stdout",
     "output_type": "stream",
     "text": [
      "please enter value of a :3\n",
      "please enter value of b :4\n",
      "please enter value of c :5\n",
      "the formula of \"a2 + b2 = c2 is =\"  5.0\n"
     ]
    }
   ],
   "source": [
    "import math\n",
    "a=int(input('please enter value of a :'))\n",
    "b=int(input('please enter value of b :'))\n",
    "c=int(input('please enter value of c :'))\n",
    "formula = math.sqrt(a**2+b**2)\n",
    "print('the formula of \"a2 + b2 = c2 is =\" ',formula)\n"
   ]
  },
  {
   "cell_type": "markdown",
   "metadata": {},
   "source": [
    "14. Write a Python program to check whether an alphabet is vowel or consonant."
   ]
  },
  {
   "cell_type": "code",
   "execution_count": 38,
   "metadata": {},
   "outputs": [
    {
     "name": "stdout",
     "output_type": "stream",
     "text": [
      "please enter a letter : A\n",
      "The letter  A  is vowel\n"
     ]
    }
   ],
   "source": [
    "Letter=input('please enter a letter : ')\n",
    "if Letter=='A' or Letter=='a'or Letter=='O' or Letter=='o'or Letter=='I' or Letter=='i' or Letter=='E' or Letter=='e' or Letter=='U' or Letter=='u':\n",
    "    print('The letter ',Letter,' is vowel')\n",
    "else:\n",
    "    print('The letter ',Letter,' is constant')"
   ]
  },
  {
   "cell_type": "markdown",
   "metadata": {},
   "source": [
    "15. Write a Python program to check whether a number is even or odd."
   ]
  },
  {
   "cell_type": "code",
   "execution_count": 39,
   "metadata": {},
   "outputs": [
    {
     "name": "stdout",
     "output_type": "stream",
     "text": [
      "Please enter a number :5\n",
      "This number is odd\n"
     ]
    }
   ],
   "source": [
    "a=int(input('Please enter a number :'))\n",
    "if(a%2==0):\n",
    "    print('This number is even')\n",
    "else:\n",
    "    print('This number is odd')"
   ]
  },
  {
   "cell_type": "markdown",
   "metadata": {},
   "source": [
    "16. Write a Python program to display the current date and time. Sample Output :\n",
    "Current date and time : 2019-07-05 21:25:48"
   ]
  },
  {
   "cell_type": "code",
   "execution_count": 42,
   "metadata": {},
   "outputs": [
    {
     "name": "stdout",
     "output_type": "stream",
     "text": [
      "Current date and time :  2019-10-15 21:03:35\n"
     ]
    }
   ],
   "source": [
    "import datetime\n",
    "curdate = datetime.datetime.now()\n",
    "print('Current date and time : ',curdate.strftime(\"%Y-%m-%d %H:%M:%S\"))"
   ]
  },
  {
   "cell_type": "markdown",
   "metadata": {},
   "source": [
    "17. Write a Python program which accepts the radius of a circle from the user and compute the\n",
    "area; Sample Output :\n",
    "r = 1.1\n",
    "Area = 3.8013271108436504"
   ]
  },
  {
   "cell_type": "code",
   "execution_count": 44,
   "metadata": {},
   "outputs": [
    {
     "name": "stdout",
     "output_type": "stream",
     "text": [
      "please enter the radius of a circle 5\n",
      "Area :  78.5\n"
     ]
    }
   ],
   "source": [
    "radius=int(input('please enter the radius of a circle '))\n",
    "area=3.14*(radius**2)\n",
    "print('Area : ',area)"
   ]
  },
  {
   "cell_type": "markdown",
   "metadata": {},
   "source": [
    "Write a Python program which accepts the user’s first and last name and print them in reverse\n",
    "order."
   ]
  },
  {
   "cell_type": "code",
   "execution_count": 50,
   "metadata": {},
   "outputs": [
    {
     "name": "stdout",
     "output_type": "stream",
     "text": [
      "please enter your first name : moh\n",
      "please enter your last name : jaber\n",
      "your name in reverse is :  ['r', 'e', 'b', 'a', 'j', 'h', 'o', 'm']\n"
     ]
    }
   ],
   "source": [
    "fname=input('please enter your first name : ')\n",
    "lname=input('please enter your last name : ')\n",
    "name=fname+lname\n",
    "print('your name in reverse is : ',list(reversed(name)))"
   ]
  },
  {
   "cell_type": "markdown",
   "metadata": {},
   "source": [
    "19. Write a Python program to read a three numbers from the user and display them as follow.\n",
    "Sample Input = (11, 12, 2019) Sample Output : The examination will start from : 11 / 12 /\n",
    "2019"
   ]
  },
  {
   "cell_type": "code",
   "execution_count": 51,
   "metadata": {},
   "outputs": [
    {
     "name": "stdout",
     "output_type": "stream",
     "text": [
      "please enter the 1st number 1\n",
      "please enter the 2nd number : 1\n",
      "please enter the 3rd number : 2001\n",
      "The examination will start from :  1  /  1  /  2001\n"
     ]
    }
   ],
   "source": [
    "a=input('please enter the 1st number ')\n",
    "b=input('please enter the 2nd number : ')\n",
    "c=input('please enter the 3rd number : ')\n",
    "print('The examination will start from : ',a,' / ',b,' / ',c)"
   ]
  },
  {
   "cell_type": "markdown",
   "metadata": {},
   "source": [
    "20. Write a Python program that accepts an integer (n) and computes the value of n + nn + nnn.\n",
    "Sample value of n is 5\n",
    "Expected Result : 615"
   ]
  },
  {
   "cell_type": "code",
   "execution_count": 60,
   "metadata": {},
   "outputs": [
    {
     "name": "stdout",
     "output_type": "stream",
     "text": [
      "please enter a number : 5\n",
      "the result is :  615\n"
     ]
    }
   ],
   "source": [
    "n=int(input('please enter a number : '))\n",
    "r=n+(n*10+n)+(n*100+n*10+n)\n",
    "print('the result is : ',r)"
   ]
  },
  {
   "cell_type": "markdown",
   "metadata": {},
   "source": [
    "21. Write a Python program to print the documentation of a Python built-in function(s)."
   ]
  },
  {
   "cell_type": "code",
   "execution_count": 5,
   "metadata": {},
   "outputs": [
    {
     "name": "stdout",
     "output_type": "stream",
     "text": [
      "please enter the name of the function that you want its documentation : max\n",
      "Help on built-in function max in module builtins:\n",
      "\n",
      "max(...)\n",
      "    max(iterable, *[, default=obj, key=func]) -> value\n",
      "    max(arg1, arg2, *args, *[, key=func]) -> value\n",
      "    \n",
      "    With a single iterable argument, return its biggest item. The\n",
      "    default keyword-only argument specifies an object to return if\n",
      "    the provided iterable is empty.\n",
      "    With two or more arguments, return the largest argument.\n",
      "\n",
      "None\n"
     ]
    }
   ],
   "source": [
    "import pydoc\n",
    "func=input('please enter the name of the function that you want its documentation : ')\n",
    "print(help(func))"
   ]
  },
  {
   "cell_type": "markdown",
   "metadata": {},
   "source": [
    "22. Write a Python program to print the following here document. Go to the editor; Sample string\n",
    ":\n",
    "”a string that you ”don’t” have to escape\n",
    "This\n",
    "is a ....... multi-line\n",
    "heredoc string ——–> example”"
   ]
  },
  {
   "cell_type": "code",
   "execution_count": 9,
   "metadata": {},
   "outputs": [
    {
     "name": "stdout",
     "output_type": "stream",
     "text": [
      "\"a string that you \"don't\" have to escape\n",
      "This\n",
      "is a  ....... multi-line\n",
      "heredoc string ------> example\"\n"
     ]
    }
   ],
   "source": [
    "print('''\"a string that you \"don't\" have to escape\n",
    "This\n",
    "is a  ....... multi-line\n",
    "heredoc string ------> example\"''')"
   ]
  },
  {
   "cell_type": "markdown",
   "metadata": {},
   "source": [
    "23. Write a Python program to calculate number of days between two dates; Sample dates : (2014,\n",
    "7, 2), (2014, 7, 11)\n",
    "Expected output : 9 days"
   ]
  },
  {
   "cell_type": "code",
   "execution_count": 14,
   "metadata": {},
   "outputs": [
    {
     "name": "stdout",
     "output_type": "stream",
     "text": [
      "please enter the first date \n",
      "enter the year : 2014\n",
      "enter the month : 7\n",
      "enter the day : 2\n",
      "please enter the second date \n",
      "enter the year : 2014\n",
      "enter the month : 7\n",
      "enter the day : 11\n",
      "the number of days between the dates :  9  days\n"
     ]
    }
   ],
   "source": [
    "from datetime import date\n",
    "print('please enter the first date ')\n",
    "year1 = int(input('enter the year : '))\n",
    "month1 = int(input('enter the month : '))\n",
    "day1 = int(input('enter the day : '))\n",
    "\n",
    "print('please enter the second date ')\n",
    "year2 = int(input('enter the year : '))\n",
    "month2 = int(input('enter the month : '))\n",
    "day2 = int(input('enter the day : '))\n",
    "\n",
    "date1=date(year1,month1,day1)\n",
    "date2=date(year2,month2,day2)\n",
    "diff=date1-date2\n",
    "print('the number of days between the dates : ',abs(diff.days),' days')"
   ]
  },
  {
   "cell_type": "markdown",
   "metadata": {},
   "source": [
    "24. Write a Python program to get the volume of a sphere with a given radius."
   ]
  },
  {
   "cell_type": "code",
   "execution_count": 21,
   "metadata": {},
   "outputs": [
    {
     "name": "stdout",
     "output_type": "stream",
     "text": [
      "please enter the radius of the sphere : 6.5\n",
      "the volume of the sphere is:  1149.7633333333333\n"
     ]
    }
   ],
   "source": [
    "radius=float(input('please enter the radius of the sphere : '))\n",
    "volume= 4/3*3.14* radius**3\n",
    "print('the volume of the sphere is: ',volume)"
   ]
  },
  {
   "cell_type": "markdown",
   "metadata": {},
   "source": [
    "25. Write a Python program to get the difference between a given number and 17, if the number\n",
    "is greater than 17 return double the absolute difference."
   ]
  },
  {
   "cell_type": "code",
   "execution_count": 113,
   "metadata": {},
   "outputs": [
    {
     "name": "stdout",
     "output_type": "stream",
     "text": [
      "please enter a numer : 5\n",
      "the result is :  12\n"
     ]
    }
   ],
   "source": [
    "numm=int(input('please enter a numer : '))\n",
    "\n",
    "if numm <= 17:\n",
    "       numm= 17 - numm\n",
    "else:\n",
    "        numm=(numm - 17) * 2\n",
    "print('the result is : ',numm)\n",
    "\n"
   ]
  },
  {
   "cell_type": "markdown",
   "metadata": {},
   "source": [
    "26. Write a Python program to test whether a number is within (less than) 100 or 1000 or 2000\n",
    "and print the value divided by 5 and multiplied by 25."
   ]
  },
  {
   "cell_type": "code",
   "execution_count": 6,
   "metadata": {},
   "outputs": [
    {
     "name": "stdout",
     "output_type": "stream",
     "text": [
      "please ente a number : 2500\n",
      "2500.0\n"
     ]
    }
   ],
   "source": [
    "a=float(input('please ente a number : '))\n",
    "if a<2000 :\n",
    "    a=a/5*25\n",
    "print(a)"
   ]
  },
  {
   "cell_type": "markdown",
   "metadata": {},
   "source": [
    "27. Write a Python program to calculate the sum of three given numbers, if the values are equal\n",
    "then return three times of their sum."
   ]
  },
  {
   "cell_type": "code",
   "execution_count": 13,
   "metadata": {},
   "outputs": [
    {
     "name": "stdout",
     "output_type": "stream",
     "text": [
      "please ente a number : 5\n",
      "please ente a number : 3\n",
      "please ente a number : 2\n",
      "sum =  10.0\n"
     ]
    }
   ],
   "source": [
    "a=float(input('please ente a number : '))\n",
    "b=float(input('please ente a number : '))\n",
    "c=float(input('please ente a number : '))\n",
    "if a==b and b==c :\n",
    "    sum=(a+b+c)*3\n",
    "    print('sum = ',sum)\n",
    "    \n",
    "else :\n",
    "    sum=a+b+c\n",
    "    print('sum = ',sum)"
   ]
  },
  {
   "cell_type": "markdown",
   "metadata": {},
   "source": [
    "28. Write a Python program to swap the values of two given numbers"
   ]
  },
  {
   "cell_type": "code",
   "execution_count": 18,
   "metadata": {},
   "outputs": [
    {
     "name": "stdout",
     "output_type": "stream",
     "text": [
      "please enter a value of a  : 5\n",
      "please enter a value of b  : 6\n",
      "the new value of a :  6\n",
      "the new value of b :  5\n"
     ]
    }
   ],
   "source": [
    "a=input('please enter a value of a  : ')\n",
    "b=input('please enter a value of b  : ')\n",
    "t=a\n",
    "a=b\n",
    "b=t\n",
    "print('the new value of a : ',a)\n",
    "print('the new value of b : ',b)"
   ]
  },
  {
   "cell_type": "markdown",
   "metadata": {},
   "source": [
    "29. Write a Python program to check whether a specified value is contained in a group of values\n",
    "or if a character is given in a string; Test Data :\n",
    "3 -> [1, 5, 8, 3] : True\n",
    "-1 -> [1, 5, 8, 3] : False"
   ]
  },
  {
   "cell_type": "code",
   "execution_count": 19,
   "metadata": {},
   "outputs": [
    {
     "name": "stdout",
     "output_type": "stream",
     "text": [
      "enter a number: 6\n",
      "False\n"
     ]
    }
   ],
   "source": [
    "values = ['1', '2', '3', '4', '5']\n",
    "print(input('enter a number: ') in values)"
   ]
  },
  {
   "cell_type": "markdown",
   "metadata": {},
   "source": [
    "30. Write a Python program that will accept the base and height of a triangle and compute the\n",
    "area."
   ]
  },
  {
   "cell_type": "code",
   "execution_count": 20,
   "metadata": {},
   "outputs": [
    {
     "name": "stdout",
     "output_type": "stream",
     "text": [
      "enter the base of a triangle : 20\n",
      "enter the height of a triangle : 40\n",
      "area =  400.0\n"
     ]
    }
   ],
   "source": [
    "b = int(input(\"enter the base of a triangle : \"))\n",
    "h = int(input(\"enter the height of a triangle : \"))\n",
    "\n",
    "area = b*h/2\n",
    "\n",
    "print(\"area = \", area)"
   ]
  },
  {
   "cell_type": "markdown",
   "metadata": {},
   "source": [
    "31. Write a Python program to sum of three given integers. However, if two values are equal sum\n",
    "will be zero."
   ]
  },
  {
   "cell_type": "code",
   "execution_count": 23,
   "metadata": {},
   "outputs": [
    {
     "name": "stdout",
     "output_type": "stream",
     "text": [
      "enter a number : 1\n",
      "enter a number : 2\n",
      "enter a number : 3\n",
      "the sum is :  6\n"
     ]
    }
   ],
   "source": [
    "a = int(input(\"enter a number : \"))\n",
    "b = int(input(\"enter a number : \"))\n",
    "c = int(input(\"enter a number : \"))\n",
    "if a == b or b == c or a==c:\n",
    "        sum = 0\n",
    "        print('the sum is : ',sum)\n",
    "else:\n",
    "        sum = a + b + c\n",
    "        print('the sum is : ',sum)"
   ]
  },
  {
   "cell_type": "markdown",
   "metadata": {},
   "source": [
    "32. Write a Python program to sum of two given integers. However, if the sum is between\n",
    "15 to 20 it will return 20. 30 to 40 it will return 50. 150 to 167 it will return 210."
   ]
  },
  {
   "cell_type": "code",
   "execution_count": 24,
   "metadata": {},
   "outputs": [
    {
     "name": "stdout",
     "output_type": "stream",
     "text": [
      "enter a number : 50\n",
      "enter a number : 50\n"
     ]
    }
   ],
   "source": [
    "a = int(input(\"enter a number : \"))\n",
    "b = int(input(\"enter a number : \"))\n",
    "sum = a + c\n",
    "if sum in range(15,20):\n",
    "         print(20)\n",
    "elif sum in range(30,40):\n",
    "        print(50)\n",
    "elif sum in range(150,167):\n",
    "        print(210)"
   ]
  },
  {
   "cell_type": "markdown",
   "metadata": {},
   "source": [
    "Write a Python program that will return true if the two given integer values are equal or their\n",
    "sum or difference is 5."
   ]
  },
  {
   "cell_type": "code",
   "execution_count": 26,
   "metadata": {},
   "outputs": [
    {
     "name": "stdout",
     "output_type": "stream",
     "text": [
      "enter a number : 5\n",
      "enter a number : 2\n",
      "False\n"
     ]
    }
   ],
   "source": [
    "a = int(input(\"enter a number : \"))\n",
    "b = int(input(\"enter a number : \"))\n",
    "if a == b or abs(a-b) == 5 or (a+b) == 5:\n",
    "        print(True)\n",
    "else:\n",
    "        print(False)"
   ]
  },
  {
   "cell_type": "markdown",
   "metadata": {},
   "source": [
    "Write a Python program to solve (x + y) ∗ (x + y), x and y are an inputs; Expected Output :\n",
    "((4 + 3)2) = 49"
   ]
  },
  {
   "cell_type": "code",
   "execution_count": 30,
   "metadata": {},
   "outputs": [
    {
     "name": "stdout",
     "output_type": "stream",
     "text": [
      "enter a number : 3\n",
      "enter a number : 4\n",
      "(( 3 + 4 )^2) 49\n"
     ]
    }
   ],
   "source": [
    "a = int(input(\"enter a number : \"))\n",
    "b = int(input(\"enter a number : \"))\n",
    "\n",
    "result = a * a + 2 * a * b + b * b\n",
    "print('((',a,'+',b,')^2)',result)"
   ]
  },
  {
   "cell_type": "markdown",
   "metadata": {},
   "source": [
    "Write a Python program to compute the future value of a specified principal amount, rate of\n",
    "interest, and a number of years.\n",
    "Test Data : amt = 10000, int = 3.5, years = 7\n",
    "Expected Output : 12722.79"
   ]
  },
  {
   "cell_type": "code",
   "execution_count": 31,
   "metadata": {},
   "outputs": [
    {
     "name": "stdout",
     "output_type": "stream",
     "text": [
      "12722.79\n"
     ]
    }
   ],
   "source": [
    "amt = 10000\n",
    "Int = 3.5\n",
    "year = 7\n",
    "futureValue= amt*((1+(0.01*Int))**year)\n",
    "print(round(futureValue,2))"
   ]
  },
  {
   "cell_type": "markdown",
   "metadata": {},
   "source": [
    "Write a Python program to compute the distance between the points (x1, y1) and (x2, y2).\n",
    "(the distance between two points calculated using Phythagoros theorem)"
   ]
  },
  {
   "cell_type": "code",
   "execution_count": 32,
   "metadata": {},
   "outputs": [
    {
     "name": "stdout",
     "output_type": "stream",
     "text": [
      "please enter the x1 number:3\n",
      "please enter the y1 number:4\n",
      "please enter x2 number:7\n",
      "please enter x3 number:7\n",
      "5.0\n"
     ]
    }
   ],
   "source": [
    "x1=float(input('please enter the x1 number:'))\n",
    "\n",
    "y1=float(input('please enter the y1 number:'))\n",
    "x2=float(input('please enter x2 number:'))\n",
    "y2=float(input('please enter x3 number:'))\n",
    "\n",
    "distance=((x1-x2)*(x1-x2)+(y1-y2)*(y1-y2))\n",
    "\n",
    "print(distance**.5)"
   ]
  },
  {
   "cell_type": "markdown",
   "metadata": {},
   "source": [
    "38. Write a Python program to convert height (in feet and inches) to centimeters."
   ]
  },
  {
   "cell_type": "code",
   "execution_count": 46,
   "metadata": {},
   "outputs": [
    {
     "name": "stdout",
     "output_type": "stream",
     "text": [
      "please enter the height: \n",
      "Feet: 1\n",
      "Inches: 1\n",
      "the height is : 33.0\n"
     ]
    }
   ],
   "source": [
    "print(\"please enter the height: \")\n",
    "ft = int(input(\"Feet: \"))\n",
    "inch = int(input(\"Inches: \"))\n",
    "\n",
    "inch += ft * 12\n",
    "cm = round(inch * 2.54, 1)\n",
    "\n",
    "print(\"the height is :\" ,cm)"
   ]
  },
  {
   "cell_type": "markdown",
   "metadata": {},
   "source": [
    "39. Write a Python program to calculate the hypotenuse of a right-angled triangle."
   ]
  },
  {
   "cell_type": "code",
   "execution_count": 47,
   "metadata": {},
   "outputs": [
    {
     "name": "stdout",
     "output_type": "stream",
     "text": [
      "enter lengths of shorter triangle sides:\n",
      "a : 5\n",
      "b : 6\n",
      "The length of the hypotenuse is 7.810249675906654\n"
     ]
    }
   ],
   "source": [
    "from math import sqrt\n",
    "print(\"enter lengths of shorter triangle sides:\")\n",
    "a = float(input(\"a : \"))\n",
    "b = float(input(\"b : \"))\n",
    "\n",
    "c = sqrt(a**2 + b**2)\n",
    "print(\"The length of the hypotenuse is\", c )"
   ]
  },
  {
   "cell_type": "markdown",
   "metadata": {},
   "source": [
    "40. Write a Python program to convert the distance (in feet) to inches, yards, and miles."
   ]
  },
  {
   "cell_type": "code",
   "execution_count": 48,
   "metadata": {},
   "outputs": [
    {
     "name": "stdout",
     "output_type": "stream",
     "text": [
      "enter distance in feet: 5\n",
      "The distance in inches is :  60\n",
      "The distance in yards is :  1.6666666666666667\n",
      "The distance in miles is :  0.000946969696969697\n"
     ]
    }
   ],
   "source": [
    "ft = int(input(\"enter distance in feet: \"))\n",
    "inches = ft * 12\n",
    "yards = ft / 3.0\n",
    "miles = ft / 5280.0\n",
    "\n",
    "print(\"The distance in inches is : \",inches)\n",
    "print(\"The distance in yards is : \",yards)\n",
    "print(\"The distance in miles is : \" ,miles)"
   ]
  },
  {
   "cell_type": "markdown",
   "metadata": {},
   "source": [
    "43. Write a Python program to calculate body mass index for a give height and Weight."
   ]
  },
  {
   "cell_type": "code",
   "execution_count": 49,
   "metadata": {},
   "outputs": [
    {
     "name": "stdout",
     "output_type": "stream",
     "text": [
      "enter your height in meters: 1.76\n",
      "enter your weight in kilogram: 67\n",
      "Your body mass index is:  21.63\n"
     ]
    }
   ],
   "source": [
    "height = float(input(\"enter your height in meters: \"))\n",
    "weight = float(input(\"enter your weight in kilogram: \"))\n",
    "print(\"Your body mass index is: \", round(weight / (height * height), 2))"
   ]
  },
  {
   "cell_type": "markdown",
   "metadata": {},
   "source": [
    "44. Write a Python program to sort five given integers and print them"
   ]
  },
  {
   "cell_type": "code",
   "execution_count": 53,
   "metadata": {},
   "outputs": [
    {
     "name": "stdout",
     "output_type": "stream",
     "text": [
      "[1, 5, 7, 8, 9]\n"
     ]
    }
   ],
   "source": [
    "a=[1,5,9,8,7]\n",
    "print(sorted(a,key=ascii))"
   ]
  },
  {
   "cell_type": "markdown",
   "metadata": {},
   "source": [
    "45. Write a Python program to get the details (documentation) of the math module."
   ]
  },
  {
   "cell_type": "code",
   "execution_count": 54,
   "metadata": {},
   "outputs": [
    {
     "name": "stdout",
     "output_type": "stream",
     "text": [
      "['__doc__', '__loader__', '__name__', '__package__', '__spec__', 'acos', 'acosh', 'asin', 'asinh', 'atan', 'atan2', 'atanh', 'ceil', 'copysign', 'cos', 'cosh', 'degrees', 'e', 'erf', 'erfc', 'exp', 'expm1', 'fabs', 'factorial', 'floor', 'fmod', 'frexp', 'fsum', 'gamma', 'gcd', 'hypot', 'inf', 'isclose', 'isfinite', 'isinf', 'isnan', 'ldexp', 'lgamma', 'log', 'log10', 'log1p', 'log2', 'modf', 'nan', 'pi', 'pow', 'radians', 'remainder', 'sin', 'sinh', 'sqrt', 'tan', 'tanh', 'tau', 'trunc']\n"
     ]
    }
   ],
   "source": [
    "import math            \n",
    "math_ls = dir(math)\n",
    "print(math_ls)"
   ]
  },
  {
   "cell_type": "markdown",
   "metadata": {},
   "source": [
    "46. Write a Python program to get the ASCII code of a given character"
   ]
  },
  {
   "cell_type": "code",
   "execution_count": 59,
   "metadata": {},
   "outputs": [
    {
     "name": "stdout",
     "output_type": "stream",
     "text": [
      "77\n",
      "122\n",
      "55\n",
      "64\n"
     ]
    }
   ],
   "source": [
    "print(ord('M'))\n",
    "print(ord('z'))\n",
    "print(ord('7'))\n",
    "print(ord('@'))"
   ]
  },
  {
   "cell_type": "markdown",
   "metadata": {},
   "source": [
    "Write a Python program to get the size of an object in bytes."
   ]
  },
  {
   "cell_type": "code",
   "execution_count": 60,
   "metadata": {},
   "outputs": [
    {
     "name": "stdout",
     "output_type": "stream",
     "text": [
      "Memory size of 'one' = 52 bytes\n"
     ]
    }
   ],
   "source": [
    "import sys\n",
    "str1 = \"one\"\n",
    "print(\"Memory size of '\"+str1+\"' = \"+str(sys.getsizeof(str1))+ \" bytes\")"
   ]
  },
  {
   "cell_type": "markdown",
   "metadata": {},
   "source": [
    "Write a Python program to find the available built-in modules. (built-in modules doesn’t\n",
    "require to be PIP’ed install)"
   ]
  },
  {
   "cell_type": "code",
   "execution_count": 61,
   "metadata": {},
   "outputs": [
    {
     "name": "stdout",
     "output_type": "stream",
     "text": [
      "_abc, _ast, _bisect, _blake2, _codecs, _codecs_cn, _codecs_hk,\n",
      "_codecs_iso2022, _codecs_jp, _codecs_kr, _codecs_tw, _collections,\n",
      "_contextvars, _csv, _datetime, _functools, _heapq, _imp, _io, _json,\n",
      "_locale, _lsprof, _md5, _multibytecodec, _opcode, _operator, _pickle,\n",
      "_random, _sha1, _sha256, _sha3, _sha512, _signal, _sre, _stat,\n",
      "_string, _struct, _symtable, _thread, _tracemalloc, _warnings,\n",
      "_weakref, _winapi, array, atexit, audioop, binascii, builtins, cmath,\n",
      "errno, faulthandler, gc, itertools, marshal, math, mmap, msvcrt, nt,\n",
      "parser, sys, time, winreg, xxsubtype, zipimport, zlib\n"
     ]
    }
   ],
   "source": [
    "import sys\n",
    "import textwrap\n",
    "module_name = ', '.join(sorted(sys.builtin_module_names))\n",
    "print(textwrap.fill(module_name, width=70))"
   ]
  },
  {
   "cell_type": "markdown",
   "metadata": {},
   "source": [
    "49. Write a Python program to concatenate 4 given strings."
   ]
  },
  {
   "cell_type": "code",
   "execution_count": 114,
   "metadata": {},
   "outputs": [
    {
     "name": "stdout",
     "output_type": "stream",
     "text": [
      "hi my name is maj by\n"
     ]
    }
   ],
   "source": [
    "s1='hi'\n",
    "s2=' my name is '\n",
    "s3='maj'\n",
    "s4=' by'\n",
    "print(s1+s2+s3+s4)"
   ]
  },
  {
   "cell_type": "markdown",
   "metadata": {},
   "source": [
    " Write a Python program to clear the screen or terminal."
   ]
  },
  {
   "cell_type": "code",
   "execution_count": 63,
   "metadata": {},
   "outputs": [
    {
     "data": {
      "text/plain": [
       "1"
      ]
     },
     "execution_count": 63,
     "metadata": {},
     "output_type": "execute_result"
    }
   ],
   "source": [
    "import os\n",
    "import time\n",
    "os.system(\"ls\")\n",
    "time.sleep(2)\n",
    "os.system('clear')"
   ]
  },
  {
   "cell_type": "markdown",
   "metadata": {},
   "source": [
    "Write a Python program to check if a number is positive, negative or zero."
   ]
  },
  {
   "cell_type": "code",
   "execution_count": 64,
   "metadata": {},
   "outputs": [
    {
     "name": "stdout",
     "output_type": "stream",
     "text": [
      "Enter a number: 5\n",
      "Positive number\n"
     ]
    }
   ],
   "source": [
    "num = float(input(\"Enter a number: \"))\n",
    "if num > 0:\n",
    "   print(\"Positive number\")\n",
    "elif num == 0:\n",
    "   print(\"Zero\")\n",
    "else:\n",
    "   print(\"Negative number\")"
   ]
  },
  {
   "cell_type": "markdown",
   "metadata": {},
   "source": [
    "53. Write a Python program to input a number, if it is not a number generate an error message."
   ]
  },
  {
   "cell_type": "code",
   "execution_count": 73,
   "metadata": {},
   "outputs": [
    {
     "name": "stdout",
     "output_type": "stream",
     "text": [
      "Enter a number: a\n",
      "please enter a number\n"
     ]
    }
   ],
   "source": [
    "num = input(\"Enter a number: \")\n",
    "if ord(num)>=48 and ord(num)<=57:\n",
    "   print(num) \n",
    "else:\n",
    "    print('please enter a number')\n",
    "    "
   ]
  },
  {
   "cell_type": "markdown",
   "metadata": {},
   "source": [
    "Write a Python program to prove that two string variables of same value point same memory\n",
    "location."
   ]
  },
  {
   "cell_type": "code",
   "execution_count": 74,
   "metadata": {},
   "outputs": [
    {
     "name": "stdout",
     "output_type": "stream",
     "text": [
      "\n",
      "Memory location of str1 = 0x205795cf030\n",
      "Memory location of str2 = 0x205795cf030\n"
     ]
    }
   ],
   "source": [
    "str1 = \"Python\"\n",
    "str2 = \"Python\"\n",
    " \n",
    "print(\"\\nMemory location of str1 =\", hex(id(str1)))\n",
    "print(\"Memory location of str2 =\", hex(id(str2)))\n"
   ]
  },
  {
   "cell_type": "markdown",
   "metadata": {},
   "source": [
    " Write a Python program to prove that two string variables are equals."
   ]
  },
  {
   "cell_type": "code",
   "execution_count": 75,
   "metadata": {},
   "outputs": [
    {
     "name": "stdout",
     "output_type": "stream",
     "text": [
      "Same Strings\n"
     ]
    }
   ],
   "source": [
    "str_x = 'Hello & Welcome'\n",
    " \n",
    "str_y = 'Hello & Welcome'\n",
    " \n",
    " \n",
    " \n",
    " \n",
    "if str_x == str_y:\n",
    " \n",
    "    print (\"Same Strings\")\n",
    " \n",
    "else:\n",
    " \n",
    "    print (\"Different Strings\")"
   ]
  },
  {
   "cell_type": "markdown",
   "metadata": {},
   "source": [
    "Write a Python program to empty a variable without destroying it. Sample data:\n",
    "n=20\n",
    "Expected Output : None"
   ]
  },
  {
   "cell_type": "code",
   "execution_count": 77,
   "metadata": {},
   "outputs": [
    {
     "name": "stdout",
     "output_type": "stream",
     "text": [
      "0\n"
     ]
    }
   ],
   "source": [
    "n = 20\n",
    "print(type(n)())"
   ]
  },
  {
   "cell_type": "markdown",
   "metadata": {},
   "source": [
    "Write a Python program to check if lowercase letters exist in a string."
   ]
  },
  {
   "cell_type": "code",
   "execution_count": 78,
   "metadata": {},
   "outputs": [
    {
     "name": "stdout",
     "output_type": "stream",
     "text": [
      "True\n"
     ]
    }
   ],
   "source": [
    "str1 = 'A8238i823acdeOUEI'\n",
    "print(any(c.islower() for c in str1))"
   ]
  },
  {
   "cell_type": "markdown",
   "metadata": {},
   "source": [
    "Write a Python program to add leading zeroes to a string."
   ]
  },
  {
   "cell_type": "code",
   "execution_count": 80,
   "metadata": {},
   "outputs": [
    {
     "name": "stdout",
     "output_type": "stream",
     "text": [
      "Original String:  122.22\n",
      "122.2200\n"
     ]
    }
   ],
   "source": [
    "str1='122.22'\n",
    "print(\"Original String: \",str1)\n",
    "str1 = str1.ljust(8, '0')\n",
    "print(str1)"
   ]
  },
  {
   "cell_type": "markdown",
   "metadata": {},
   "source": [
    "Write a Python program to calculate the time runs (difference between start and current time)\n",
    "of a program."
   ]
  },
  {
   "cell_type": "code",
   "execution_count": 81,
   "metadata": {},
   "outputs": [
    {
     "name": "stdout",
     "output_type": "stream",
     "text": [
      "0\n",
      "1\n",
      "2\n",
      "3\n",
      "4\n",
      "0.00045079999927111203\n"
     ]
    }
   ],
   "source": [
    "from timeit import default_timer\n",
    "start = default_timer()\n",
    "for row in range(0,5):\n",
    "        print(row)\n",
    "print(default_timer() - start)"
   ]
  },
  {
   "cell_type": "markdown",
   "metadata": {},
   "source": [
    "Write a Python program to convert an integer to binary keep leading zeros.\n",
    "Sample data : 50\n",
    "Expected output : 00001100, 0000001100"
   ]
  },
  {
   "cell_type": "code",
   "execution_count": 84,
   "metadata": {},
   "outputs": [
    {
     "name": "stdout",
     "output_type": "stream",
     "text": [
      "00000101\n",
      "0000000101\n"
     ]
    }
   ],
   "source": [
    "x=5\n",
    "print(format(x, '08b'))\n",
    "print(format(x, '010b'))"
   ]
  },
  {
   "cell_type": "markdown",
   "metadata": {},
   "source": [
    "Write a Python program to input two integers in a single line."
   ]
  },
  {
   "cell_type": "code",
   "execution_count": 96,
   "metadata": {},
   "outputs": [
    {
     "name": "stdout",
     "output_type": "stream",
     "text": [
      "please enter a number1\n",
      "please enter a number2\n"
     ]
    }
   ],
   "source": [
    "x,y=input('please enter a number'),input('please enter a number')"
   ]
  },
  {
   "cell_type": "markdown",
   "metadata": {},
   "source": [
    "Write a python program to convert decimal to hexadecimal.\n",
    "Sample decimal number: 30\n",
    "Expected output: 1e"
   ]
  },
  {
   "cell_type": "code",
   "execution_count": 102,
   "metadata": {},
   "outputs": [
    {
     "name": "stdout",
     "output_type": "stream",
     "text": [
      "1e\n"
     ]
    }
   ],
   "source": [
    "x=30\n",
    "print(format(x, '02x'))"
   ]
  },
  {
   "cell_type": "markdown",
   "metadata": {},
   "source": [
    "Write a Python function to find the maximum and minimum numbers from a sequence of\n",
    "numbers.\n",
    "Note: Do not use built-in functions."
   ]
  },
  {
   "cell_type": "code",
   "execution_count": 115,
   "metadata": {},
   "outputs": [
    {
     "name": "stdout",
     "output_type": "stream",
     "text": [
      "the min is :  -5  and the max is :  75\n"
     ]
    }
   ],
   "source": [
    "data=[0, 10, 15, 40, -5, 42, 17, 28, 75]\n",
    "max = data[0]\n",
    "min = data[0]\n",
    "for num in data:\n",
    "    if num> max:\n",
    "      max = num\n",
    "    elif num< min:\n",
    "        min = num\n",
    "print('the min is : ',min,' and the max is : ',max)\n",
    "\n"
   ]
  }
 ],
 "metadata": {
  "kernelspec": {
   "display_name": "Python 3",
   "language": "python",
   "name": "python3"
  },
  "language_info": {
   "codemirror_mode": {
    "name": "ipython",
    "version": 3
   },
   "file_extension": ".py",
   "mimetype": "text/x-python",
   "name": "python",
   "nbconvert_exporter": "python",
   "pygments_lexer": "ipython3",
   "version": "3.7.3"
  }
 },
 "nbformat": 4,
 "nbformat_minor": 2
}
